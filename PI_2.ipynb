{
 "cells": [
  {
   "cell_type": "markdown",
   "metadata": {},
   "source": [
    "#### Descripción"
   ]
  },
  {
   "cell_type": "markdown",
   "metadata": {},
   "source": [
    "El CDC (centro de control y prevención de enfermedades) de EE. UU. es la entidad encargada de monitorear la salud pública y desarrollar estrategias para la prevención y control de enfermedades. Por esto ha contratado a nuestra consultora para organizar, en base a los datos recolectados, los recursos hospitalarios para prevenir que lo ocurrido durante la pandemia COVID-19 suceda de vuelta."
   ]
  },
  {
   "cell_type": "code",
   "execution_count": 2,
   "metadata": {},
   "outputs": [],
   "source": [
    "import pandas as pd\n",
    "import numpy as np\n",
    "import matplotlib.pyplot as plt \n",
    "import datetime\n",
    "from datetime import timedelta\n",
    "import matplotlib.dates as mdates\n",
    "\n",
    "pd.set_option('display.float_format', lambda x: '%.2f' % x)\n"
   ]
  },
  {
   "cell_type": "markdown",
   "metadata": {},
   "source": [
    "Para obtener los datos de usa el archivo .CSV, se lo descarga directamente desde https://dev.socrata.com/foundry/healthdata.gov/g62h-syeh"
   ]
  },
  {
   "cell_type": "code",
   "execution_count": 3,
   "metadata": {},
   "outputs": [
    {
     "name": "stdout",
     "output_type": "stream",
     "text": [
      "<class 'pandas.core.frame.DataFrame'>\n",
      "RangeIndex: 47909 entries, 0 to 47908\n",
      "Columns: 135 entries, state to total_staffed_pediatric_icu_beds_coverage\n",
      "dtypes: float64(77), int64(56), object(2)\n",
      "memory usage: 49.3+ MB\n"
     ]
    }
   ],
   "source": [
    "df = pd.read_csv('https://healthdata.gov/api/views/g62h-syeh/rows.csv?accessType=DOWNLOAD&api_foundry=true')\n",
    "df = df.fillna(0)\n",
    "df.info()"
   ]
  },
  {
   "cell_type": "code",
   "execution_count": 4,
   "metadata": {},
   "outputs": [
    {
     "data": {
      "text/html": [
       "<div>\n",
       "<style scoped>\n",
       "    .dataframe tbody tr th:only-of-type {\n",
       "        vertical-align: middle;\n",
       "    }\n",
       "\n",
       "    .dataframe tbody tr th {\n",
       "        vertical-align: top;\n",
       "    }\n",
       "\n",
       "    .dataframe thead th {\n",
       "        text-align: right;\n",
       "    }\n",
       "</style>\n",
       "<table border=\"1\" class=\"dataframe\">\n",
       "  <thead>\n",
       "    <tr style=\"text-align: right;\">\n",
       "      <th></th>\n",
       "      <th>state</th>\n",
       "      <th>date</th>\n",
       "      <th>critical_staffing_shortage_today_yes</th>\n",
       "      <th>critical_staffing_shortage_today_no</th>\n",
       "      <th>critical_staffing_shortage_today_not_reported</th>\n",
       "      <th>critical_staffing_shortage_anticipated_within_week_yes</th>\n",
       "      <th>critical_staffing_shortage_anticipated_within_week_no</th>\n",
       "      <th>critical_staffing_shortage_anticipated_within_week_not_reported</th>\n",
       "      <th>hospital_onset_covid</th>\n",
       "      <th>hospital_onset_covid_coverage</th>\n",
       "      <th>...</th>\n",
       "      <th>previous_day_admission_pediatric_covid_confirmed_5_11</th>\n",
       "      <th>previous_day_admission_pediatric_covid_confirmed_5_11_coverage</th>\n",
       "      <th>previous_day_admission_pediatric_covid_confirmed_unknown</th>\n",
       "      <th>previous_day_admission_pediatric_covid_confirmed_unknown_coverage</th>\n",
       "      <th>staffed_icu_pediatric_patients_confirmed_covid</th>\n",
       "      <th>staffed_icu_pediatric_patients_confirmed_covid_coverage</th>\n",
       "      <th>staffed_pediatric_icu_bed_occupancy</th>\n",
       "      <th>staffed_pediatric_icu_bed_occupancy_coverage</th>\n",
       "      <th>total_staffed_pediatric_icu_beds</th>\n",
       "      <th>total_staffed_pediatric_icu_beds_coverage</th>\n",
       "    </tr>\n",
       "  </thead>\n",
       "  <tbody>\n",
       "    <tr>\n",
       "      <th>0</th>\n",
       "      <td>ID</td>\n",
       "      <td>2020/12/22</td>\n",
       "      <td>6</td>\n",
       "      <td>42</td>\n",
       "      <td>1</td>\n",
       "      <td>7</td>\n",
       "      <td>41</td>\n",
       "      <td>1</td>\n",
       "      <td>5.00</td>\n",
       "      <td>48</td>\n",
       "      <td>...</td>\n",
       "      <td>0.00</td>\n",
       "      <td>0</td>\n",
       "      <td>0.00</td>\n",
       "      <td>0</td>\n",
       "      <td>0.00</td>\n",
       "      <td>0</td>\n",
       "      <td>75.00</td>\n",
       "      <td>48</td>\n",
       "      <td>229.00</td>\n",
       "      <td>48</td>\n",
       "    </tr>\n",
       "    <tr>\n",
       "      <th>1</th>\n",
       "      <td>VT</td>\n",
       "      <td>2020/10/16</td>\n",
       "      <td>1</td>\n",
       "      <td>15</td>\n",
       "      <td>1</td>\n",
       "      <td>1</td>\n",
       "      <td>15</td>\n",
       "      <td>1</td>\n",
       "      <td>0.00</td>\n",
       "      <td>16</td>\n",
       "      <td>...</td>\n",
       "      <td>0.00</td>\n",
       "      <td>0</td>\n",
       "      <td>0.00</td>\n",
       "      <td>0</td>\n",
       "      <td>0.00</td>\n",
       "      <td>1</td>\n",
       "      <td>19.00</td>\n",
       "      <td>1</td>\n",
       "      <td>33.00</td>\n",
       "      <td>1</td>\n",
       "    </tr>\n",
       "    <tr>\n",
       "      <th>2</th>\n",
       "      <td>AR</td>\n",
       "      <td>2020/10/14</td>\n",
       "      <td>34</td>\n",
       "      <td>68</td>\n",
       "      <td>4</td>\n",
       "      <td>40</td>\n",
       "      <td>60</td>\n",
       "      <td>6</td>\n",
       "      <td>8.00</td>\n",
       "      <td>103</td>\n",
       "      <td>...</td>\n",
       "      <td>0.00</td>\n",
       "      <td>0</td>\n",
       "      <td>0.00</td>\n",
       "      <td>0</td>\n",
       "      <td>0.00</td>\n",
       "      <td>92</td>\n",
       "      <td>220.00</td>\n",
       "      <td>98</td>\n",
       "      <td>386.00</td>\n",
       "      <td>89</td>\n",
       "    </tr>\n",
       "    <tr>\n",
       "      <th>3</th>\n",
       "      <td>VI</td>\n",
       "      <td>2020/10/13</td>\n",
       "      <td>1</td>\n",
       "      <td>1</td>\n",
       "      <td>0</td>\n",
       "      <td>2</td>\n",
       "      <td>0</td>\n",
       "      <td>0</td>\n",
       "      <td>0.00</td>\n",
       "      <td>2</td>\n",
       "      <td>...</td>\n",
       "      <td>0.00</td>\n",
       "      <td>0</td>\n",
       "      <td>0.00</td>\n",
       "      <td>0</td>\n",
       "      <td>0.00</td>\n",
       "      <td>0</td>\n",
       "      <td>0.00</td>\n",
       "      <td>0</td>\n",
       "      <td>0.00</td>\n",
       "      <td>0</td>\n",
       "    </tr>\n",
       "    <tr>\n",
       "      <th>4</th>\n",
       "      <td>VI</td>\n",
       "      <td>2020/10/12</td>\n",
       "      <td>1</td>\n",
       "      <td>1</td>\n",
       "      <td>0</td>\n",
       "      <td>2</td>\n",
       "      <td>0</td>\n",
       "      <td>0</td>\n",
       "      <td>0.00</td>\n",
       "      <td>2</td>\n",
       "      <td>...</td>\n",
       "      <td>0.00</td>\n",
       "      <td>0</td>\n",
       "      <td>0.00</td>\n",
       "      <td>0</td>\n",
       "      <td>0.00</td>\n",
       "      <td>0</td>\n",
       "      <td>0.00</td>\n",
       "      <td>0</td>\n",
       "      <td>0.00</td>\n",
       "      <td>0</td>\n",
       "    </tr>\n",
       "  </tbody>\n",
       "</table>\n",
       "<p>5 rows × 135 columns</p>\n",
       "</div>"
      ],
      "text/plain": [
       "  state        date  critical_staffing_shortage_today_yes  \\\n",
       "0    ID  2020/12/22                                     6   \n",
       "1    VT  2020/10/16                                     1   \n",
       "2    AR  2020/10/14                                    34   \n",
       "3    VI  2020/10/13                                     1   \n",
       "4    VI  2020/10/12                                     1   \n",
       "\n",
       "   critical_staffing_shortage_today_no  \\\n",
       "0                                   42   \n",
       "1                                   15   \n",
       "2                                   68   \n",
       "3                                    1   \n",
       "4                                    1   \n",
       "\n",
       "   critical_staffing_shortage_today_not_reported  \\\n",
       "0                                              1   \n",
       "1                                              1   \n",
       "2                                              4   \n",
       "3                                              0   \n",
       "4                                              0   \n",
       "\n",
       "   critical_staffing_shortage_anticipated_within_week_yes  \\\n",
       "0                                                  7        \n",
       "1                                                  1        \n",
       "2                                                 40        \n",
       "3                                                  2        \n",
       "4                                                  2        \n",
       "\n",
       "   critical_staffing_shortage_anticipated_within_week_no  \\\n",
       "0                                                 41       \n",
       "1                                                 15       \n",
       "2                                                 60       \n",
       "3                                                  0       \n",
       "4                                                  0       \n",
       "\n",
       "   critical_staffing_shortage_anticipated_within_week_not_reported  \\\n",
       "0                                                  1                 \n",
       "1                                                  1                 \n",
       "2                                                  6                 \n",
       "3                                                  0                 \n",
       "4                                                  0                 \n",
       "\n",
       "   hospital_onset_covid  hospital_onset_covid_coverage  ...  \\\n",
       "0                  5.00                             48  ...   \n",
       "1                  0.00                             16  ...   \n",
       "2                  8.00                            103  ...   \n",
       "3                  0.00                              2  ...   \n",
       "4                  0.00                              2  ...   \n",
       "\n",
       "   previous_day_admission_pediatric_covid_confirmed_5_11  \\\n",
       "0                                               0.00       \n",
       "1                                               0.00       \n",
       "2                                               0.00       \n",
       "3                                               0.00       \n",
       "4                                               0.00       \n",
       "\n",
       "   previous_day_admission_pediatric_covid_confirmed_5_11_coverage  \\\n",
       "0                                                  0                \n",
       "1                                                  0                \n",
       "2                                                  0                \n",
       "3                                                  0                \n",
       "4                                                  0                \n",
       "\n",
       "   previous_day_admission_pediatric_covid_confirmed_unknown  \\\n",
       "0                                               0.00          \n",
       "1                                               0.00          \n",
       "2                                               0.00          \n",
       "3                                               0.00          \n",
       "4                                               0.00          \n",
       "\n",
       "   previous_day_admission_pediatric_covid_confirmed_unknown_coverage  \\\n",
       "0                                                  0                   \n",
       "1                                                  0                   \n",
       "2                                                  0                   \n",
       "3                                                  0                   \n",
       "4                                                  0                   \n",
       "\n",
       "   staffed_icu_pediatric_patients_confirmed_covid  \\\n",
       "0                                            0.00   \n",
       "1                                            0.00   \n",
       "2                                            0.00   \n",
       "3                                            0.00   \n",
       "4                                            0.00   \n",
       "\n",
       "   staffed_icu_pediatric_patients_confirmed_covid_coverage  \\\n",
       "0                                                  0         \n",
       "1                                                  1         \n",
       "2                                                 92         \n",
       "3                                                  0         \n",
       "4                                                  0         \n",
       "\n",
       "   staffed_pediatric_icu_bed_occupancy  \\\n",
       "0                                75.00   \n",
       "1                                19.00   \n",
       "2                               220.00   \n",
       "3                                 0.00   \n",
       "4                                 0.00   \n",
       "\n",
       "   staffed_pediatric_icu_bed_occupancy_coverage  \\\n",
       "0                                            48   \n",
       "1                                             1   \n",
       "2                                            98   \n",
       "3                                             0   \n",
       "4                                             0   \n",
       "\n",
       "   total_staffed_pediatric_icu_beds  total_staffed_pediatric_icu_beds_coverage  \n",
       "0                            229.00                                         48  \n",
       "1                             33.00                                          1  \n",
       "2                            386.00                                         89  \n",
       "3                              0.00                                          0  \n",
       "4                              0.00                                          0  \n",
       "\n",
       "[5 rows x 135 columns]"
      ]
     },
     "execution_count": 4,
     "metadata": {},
     "output_type": "execute_result"
    }
   ],
   "source": [
    "df.head()"
   ]
  },
  {
   "cell_type": "markdown",
   "metadata": {},
   "source": [
    "1 - ¿Cuáles fueron los 5 Estados con mayor ocupación hospitalaria por COVID? Criterio de ocupación por cama común. Considere la cantidad de camas ocupadas con pacientes confirmados y tome como referencia los 6 primeros meses del 2020 - recuerde incluir la cifra de infectados en esos meses (acumulativo). ¿Influye el rango etario en este comportamiento?"
   ]
  },
  {
   "cell_type": "code",
   "execution_count": 5,
   "metadata": {},
   "outputs": [],
   "source": [
    "df1 = df[df['date'] < '2020/07/01'].sort_values('date')\n"
   ]
  },
  {
   "cell_type": "code",
   "execution_count": 6,
   "metadata": {},
   "outputs": [
    {
     "data": {
      "text/plain": [
       "'2020/01/01'"
      ]
     },
     "execution_count": 6,
     "metadata": {},
     "output_type": "execute_result"
    }
   ],
   "source": [
    "df1['date'].min()"
   ]
  },
  {
   "cell_type": "code",
   "execution_count": 7,
   "metadata": {},
   "outputs": [
    {
     "data": {
      "text/plain": [
       "'2020/06/30'"
      ]
     },
     "execution_count": 7,
     "metadata": {},
     "output_type": "execute_result"
    }
   ],
   "source": [
    "df1['date'].max()"
   ]
  },
  {
   "cell_type": "markdown",
   "metadata": {},
   "source": [
    "Se utiliza la columna inpatient_beds_used_covid que corresponde a pacientes informados actualmente hospitalizados en una cama para pacientes hospitalizados que tienen sospecha o confirmación de COVID-19"
   ]
  },
  {
   "cell_type": "code",
   "execution_count": 8,
   "metadata": {},
   "outputs": [
    {
     "data": {
      "text/html": [
       "<div>\n",
       "<style scoped>\n",
       "    .dataframe tbody tr th:only-of-type {\n",
       "        vertical-align: middle;\n",
       "    }\n",
       "\n",
       "    .dataframe tbody tr th {\n",
       "        vertical-align: top;\n",
       "    }\n",
       "\n",
       "    .dataframe thead th {\n",
       "        text-align: right;\n",
       "    }\n",
       "</style>\n",
       "<table border=\"1\" class=\"dataframe\">\n",
       "  <thead>\n",
       "    <tr style=\"text-align: right;\">\n",
       "      <th></th>\n",
       "      <th>state</th>\n",
       "      <th>inpatient_beds_used_covid</th>\n",
       "      <th>total_adult_patients_hospitalized_confirmed_covid</th>\n",
       "      <th>total_pediatric_patients_hospitalized_confirmed_covid</th>\n",
       "    </tr>\n",
       "  </thead>\n",
       "  <tbody>\n",
       "    <tr>\n",
       "      <th>0</th>\n",
       "      <td>NY</td>\n",
       "      <td>686528.00</td>\n",
       "      <td>87.00</td>\n",
       "      <td>0.00</td>\n",
       "    </tr>\n",
       "    <tr>\n",
       "      <th>1</th>\n",
       "      <td>CA</td>\n",
       "      <td>434721.00</td>\n",
       "      <td>36134.00</td>\n",
       "      <td>0.00</td>\n",
       "    </tr>\n",
       "    <tr>\n",
       "      <th>2</th>\n",
       "      <td>FL</td>\n",
       "      <td>322227.00</td>\n",
       "      <td>0.00</td>\n",
       "      <td>0.00</td>\n",
       "    </tr>\n",
       "    <tr>\n",
       "      <th>3</th>\n",
       "      <td>TX</td>\n",
       "      <td>246237.00</td>\n",
       "      <td>0.00</td>\n",
       "      <td>0.00</td>\n",
       "    </tr>\n",
       "    <tr>\n",
       "      <th>4</th>\n",
       "      <td>IL</td>\n",
       "      <td>214010.00</td>\n",
       "      <td>0.00</td>\n",
       "      <td>0.00</td>\n",
       "    </tr>\n",
       "  </tbody>\n",
       "</table>\n",
       "</div>"
      ],
      "text/plain": [
       "  state  inpatient_beds_used_covid  \\\n",
       "0    NY                  686528.00   \n",
       "1    CA                  434721.00   \n",
       "2    FL                  322227.00   \n",
       "3    TX                  246237.00   \n",
       "4    IL                  214010.00   \n",
       "\n",
       "   total_adult_patients_hospitalized_confirmed_covid  \\\n",
       "0                                              87.00   \n",
       "1                                           36134.00   \n",
       "2                                               0.00   \n",
       "3                                               0.00   \n",
       "4                                               0.00   \n",
       "\n",
       "   total_pediatric_patients_hospitalized_confirmed_covid  \n",
       "0                                               0.00      \n",
       "1                                               0.00      \n",
       "2                                               0.00      \n",
       "3                                               0.00      \n",
       "4                                               0.00      "
      ]
     },
     "execution_count": 8,
     "metadata": {},
     "output_type": "execute_result"
    }
   ],
   "source": [
    "df1 = pd.DataFrame(df1, columns = ['state',\n",
    "                                    'inpatient_beds_used_covid',\n",
    "                                    'total_adult_patients_hospitalized_confirmed_covid',\n",
    "                                    'total_pediatric_patients_hospitalized_confirmed_covid'])\n",
    "\n",
    "\n",
    "df1 = df1.groupby(by='state',as_index=False).sum().sort_values(by=\"inpatient_beds_used_covid\",ascending=False).iloc[0:5].reset_index().drop(columns='index')\n",
    "df1\n"
   ]
  },
  {
   "cell_type": "code",
   "execution_count": 9,
   "metadata": {},
   "outputs": [
    {
     "data": {
      "image/png": "[encoded data removed]",
      "text/plain": [
       "<Figure size 288x216 with 1 Axes>"
      ]
     },
     "metadata": {
      "needs_background": "light"
     },
     "output_type": "display_data"
    }
   ],
   "source": [
    "fig = plt.figure(figsize=(4, 3))\n",
    "ax = fig.add_axes([0,0,1,1])\n",
    "x=df1['state'].values.astype(str)\n",
    "y=df1['inpatient_beds_used_covid']\n",
    "ax.bar(x,y)\n",
    "ax.set_xlabel('Estados')\n",
    "ax.set_ylabel('Camas Ocupadas')\n",
    "ax.set_title('Ocupación de camas COVID por estado')\n",
    "\n",
    "plt.show()"
   ]
  },
  {
   "cell_type": "markdown",
   "metadata": {},
   "source": [
    "2 - Analice la ocupación de camas (Común) por COVID en el Estado de Nueva York durante la cuarentena establecida e indique:\n",
    "\n",
    "- Intervalos de crecimiento y decrecimiento\n",
    "- Puntos críticos (mínimos y máximos)"
   ]
  },
  {
   "cell_type": "code",
   "execution_count": 10,
   "metadata": {},
   "outputs": [],
   "source": [
    "df2 = df[(df['state'] == 'NY') & (df['date'] < '2020/07/01')].sort_values('date')\n",
    "df2 = pd.DataFrame(df2, columns = ['state',\n",
    "                                    'date',\n",
    "                                    'inpatient_beds_used_covid'])\n",
    "var = df2['inpatient_beds_used_covid'] / df2['inpatient_beds_used_covid'].shift(1) - 1  # variacion diaria\n",
    "df2['variacion'] = np.around(var,2)\n",
    "df2 = df2.fillna(0)"
   ]
  },
  {
   "cell_type": "markdown",
   "metadata": {},
   "source": [
    "La fecha en que más ocupación de camas por COVID fue"
   ]
  },
  {
   "cell_type": "code",
   "execution_count": 16,
   "metadata": {},
   "outputs": [
    {
     "data": {
      "text/html": [
       "<div>\n",
       "<style scoped>\n",
       "    .dataframe tbody tr th:only-of-type {\n",
       "        vertical-align: middle;\n",
       "    }\n",
       "\n",
       "    .dataframe tbody tr th {\n",
       "        vertical-align: top;\n",
       "    }\n",
       "\n",
       "    .dataframe thead th {\n",
       "        text-align: right;\n",
       "    }\n",
       "</style>\n",
       "<table border=\"1\" class=\"dataframe\">\n",
       "  <thead>\n",
       "    <tr style=\"text-align: right;\">\n",
       "      <th></th>\n",
       "      <th>Fecha</th>\n",
       "      <th>Camas COVID</th>\n",
       "      <th>Variación Diaria</th>\n",
       "    </tr>\n",
       "  </thead>\n",
       "  <tbody>\n",
       "    <tr>\n",
       "      <th>0</th>\n",
       "      <td>2020/04/14</td>\n",
       "      <td>14126.00</td>\n",
       "      <td>0.02</td>\n",
       "    </tr>\n",
       "  </tbody>\n",
       "</table>\n",
       "</div>"
      ],
      "text/plain": [
       "        Fecha  Camas COVID  Variación Diaria\n",
       "0  2020/04/14     14126.00              0.02"
      ]
     },
     "execution_count": 16,
     "metadata": {},
     "output_type": "execute_result"
    }
   ],
   "source": [
    "a = df2[df2['inpatient_beds_used_covid'] == df2['inpatient_beds_used_covid'].max()].reset_index().drop(columns=['state','index'])\n",
    "a = a.rename(columns={'date':'Fecha','inpatient_beds_used_covid':'Camas COVID','variacion':'Variación Diaria'})\n"
   ]
  },
  {
   "cell_type": "code",
   "execution_count": null,
   "metadata": {},
   "outputs": [
    {
     "data": {
      "image/png": "[encoded data removed]",
      "text/plain": [
       "<Figure size 720x432 with 2 Axes>"
      ]
     },
     "metadata": {
      "needs_background": "light"
     },
     "output_type": "display_data"
    }
   ],
   "source": [
    "from turtle import color\n",
    "\n",
    "\n",
    "x = df2.date.values\n",
    "y1 = df2.inpatient_beds_used_covid.values\n",
    "y2 = df2.variacion.values\n",
    "max_val = df2[df2['variacion'] == df2['variacion'].max()]\n",
    "min_val = df2[df2['variacion'] == df2['variacion'].min()]\n",
    "fig, ax = plt.subplots(2, figsize=(10, 6),\n",
    "           sharex='col', sharey='row')\n",
    "ax[0].plot(x, y1)\n",
    "ax[0].set(ylabel='Camas',\n",
    "       title='Ocupación de camas por COVID-19')\n",
    "ax[1].plot(x, y2)\n",
    "ax[1].scatter(max_val['date'].values,max_val['variacion'].values,color='r')\n",
    "ax[1].scatter(min_val['date'].values,min_val['variacion'].values,color='r')\n",
    "\n",
    "ax[1].set(xlabel='Fecha', ylabel='Variación',\n",
    "       title='Variación porcentiual de ocupación de camas por COVID-19')\n",
    "\n",
    "ax[1].xaxis.set_major_locator(mdates.AutoDateLocator())\n",
    "ax[1].tick_params(axis='x', labelrotation=45)\n",
    "\n",
    "plt.show()"
   ]
  },
  {
   "cell_type": "code",
   "execution_count": null,
   "metadata": {},
   "outputs": [
    {
     "data": {
      "text/plain": [
       "'2020/03/15'"
      ]
     },
     "execution_count": 557,
     "metadata": {},
     "output_type": "execute_result"
    }
   ],
   "source": [
    "a = max_val.date.values.tolist()\n",
    "a[0]\n"
   ]
  },
  {
   "cell_type": "code",
   "execution_count": null,
   "metadata": {},
   "outputs": [
    {
     "data": {
      "text/plain": [
       "[13.67]"
      ]
     },
     "execution_count": 558,
     "metadata": {},
     "output_type": "execute_result"
    }
   ],
   "source": [
    "max_val.variacion.values.tolist()"
   ]
  },
  {
   "cell_type": "markdown",
   "metadata": {},
   "source": [
    "3 - ¿Cuáles fueron los cinco Estados que más camas UCI -Unidades de Cuidados Intensivos- utilizaron durante el año 2020? La medición debe realizarse en términos absolutos."
   ]
  },
  {
   "cell_type": "code",
   "execution_count": null,
   "metadata": {},
   "outputs": [
    {
     "data": {
      "text/html": [
       "<div>\n",
       "<style scoped>\n",
       "    .dataframe tbody tr th:only-of-type {\n",
       "        vertical-align: middle;\n",
       "    }\n",
       "\n",
       "    .dataframe tbody tr th {\n",
       "        vertical-align: top;\n",
       "    }\n",
       "\n",
       "    .dataframe thead th {\n",
       "        text-align: right;\n",
       "    }\n",
       "</style>\n",
       "<table border=\"1\" class=\"dataframe\">\n",
       "  <thead>\n",
       "    <tr style=\"text-align: right;\">\n",
       "      <th></th>\n",
       "      <th>state</th>\n",
       "      <th>staffed_adult_icu_bed_occupancy</th>\n",
       "      <th>staffed_pediatric_icu_bed_occupancy</th>\n",
       "      <th>Total</th>\n",
       "    </tr>\n",
       "  </thead>\n",
       "  <tbody>\n",
       "    <tr>\n",
       "      <th>0</th>\n",
       "      <td>TX</td>\n",
       "      <td>991193.00</td>\n",
       "      <td>55836.00</td>\n",
       "      <td>1047029.00</td>\n",
       "    </tr>\n",
       "    <tr>\n",
       "      <th>1</th>\n",
       "      <td>CA</td>\n",
       "      <td>901684.00</td>\n",
       "      <td>221527.00</td>\n",
       "      <td>1123211.00</td>\n",
       "    </tr>\n",
       "    <tr>\n",
       "      <th>2</th>\n",
       "      <td>FL</td>\n",
       "      <td>799387.00</td>\n",
       "      <td>96279.00</td>\n",
       "      <td>895666.00</td>\n",
       "    </tr>\n",
       "    <tr>\n",
       "      <th>3</th>\n",
       "      <td>NY</td>\n",
       "      <td>495339.00</td>\n",
       "      <td>137922.00</td>\n",
       "      <td>633261.00</td>\n",
       "    </tr>\n",
       "    <tr>\n",
       "      <th>4</th>\n",
       "      <td>PA</td>\n",
       "      <td>465537.00</td>\n",
       "      <td>102167.00</td>\n",
       "      <td>567704.00</td>\n",
       "    </tr>\n",
       "  </tbody>\n",
       "</table>\n",
       "</div>"
      ],
      "text/plain": [
       "  state  staffed_adult_icu_bed_occupancy  staffed_pediatric_icu_bed_occupancy  \\\n",
       "0    TX                        991193.00                             55836.00   \n",
       "1    CA                        901684.00                            221527.00   \n",
       "2    FL                        799387.00                             96279.00   \n",
       "3    NY                        495339.00                            137922.00   \n",
       "4    PA                        465537.00                            102167.00   \n",
       "\n",
       "       Total  \n",
       "0 1047029.00  \n",
       "1 1123211.00  \n",
       "2  895666.00  \n",
       "3  633261.00  \n",
       "4  567704.00  "
      ]
     },
     "execution_count": 559,
     "metadata": {},
     "output_type": "execute_result"
    }
   ],
   "source": [
    "df3 = df[df['date'] < '2021/01/01'].sort_values('date')\n",
    "df3 = pd.DataFrame(df3, columns = ['state',\n",
    "                                    'staffed_adult_icu_bed_occupancy',\n",
    "                                    'staffed_pediatric_icu_bed_occupancy'])\n",
    "df3['Total'] = df3['staffed_adult_icu_bed_occupancy'] + df3['staffed_pediatric_icu_bed_occupancy']\n",
    "df3 = df3.groupby(by='state',as_index=False).sum().sort_values(by=\"staffed_adult_icu_bed_occupancy\",ascending=False).iloc[0:5].reset_index().drop(columns='index')\n",
    "df3"
   ]
  },
  {
   "cell_type": "code",
   "execution_count": null,
   "metadata": {},
   "outputs": [
    {
     "data": {
      "image/png": "[encoded data removed]",
      "text/plain": [
       "<Figure size 288x216 with 1 Axes>"
      ]
     },
     "metadata": {
      "needs_background": "light"
     },
     "output_type": "display_data"
    }
   ],
   "source": [
    "fig = plt.figure(figsize=(4, 3))\n",
    "ax = fig.add_axes([0,0,1,1])\n",
    "x=df3.state.values\n",
    "y=df3['Total'].values\n",
    "ax.bar(x,y)\n",
    "ax.set_xlabel('Estados')\n",
    "ax.set_ylabel('Camas Ocupadas')\n",
    "ax.set_title('Ocupación de camas COVID por estado')\n",
    "\n",
    "plt.show()"
   ]
  },
  {
   "cell_type": "markdown",
   "metadata": {},
   "source": [
    "4 - ¿Qué cantidad de camas se utilizaron, por Estado, para pacientes pediátricos con COVID durante el 2020?"
   ]
  },
  {
   "cell_type": "code",
   "execution_count": null,
   "metadata": {},
   "outputs": [
    {
     "data": {
      "text/plain": [
       "0     TX\n",
       "1     CA\n",
       "2     FL\n",
       "3     AZ\n",
       "4     PA\n",
       "5     IL\n",
       "6     GA\n",
       "7     NY\n",
       "8     TN\n",
       "9     OK\n",
       "10    CO\n",
       "11    OH\n",
       "12    MO\n",
       "13    AL\n",
       "14    NC\n",
       "15    MN\n",
       "16    NE\n",
       "17    NJ\n",
       "18    VA\n",
       "19    SD\n",
       "20    MI\n",
       "21    AR\n",
       "22    IN\n",
       "23    MA\n",
       "24    SC\n",
       "25    KY\n",
       "26    RI\n",
       "27    MD\n",
       "28    NV\n",
       "29    WV\n",
       "30    PR\n",
       "31    UT\n",
       "32    DC\n",
       "33    MS\n",
       "34    WA\n",
       "35    LA\n",
       "36    IA\n",
       "37    WI\n",
       "38    CT\n",
       "39    KS\n",
       "40    DE\n",
       "41    ID\n",
       "42    OR\n",
       "43    NM\n",
       "44    ND\n",
       "45    AK\n",
       "46    MT\n",
       "47    ME\n",
       "48    HI\n",
       "49    NH\n",
       "50    WY\n",
       "51    VI\n",
       "52    VT\n",
       "Name: state, dtype: object"
      ]
     },
     "execution_count": 24,
     "metadata": {},
     "output_type": "execute_result"
    }
   ],
   "source": [
    "df4 = df[df['date'] < '2021/01/01'].sort_values('date')\n",
    "df4 = pd.DataFrame(df4, columns = ['state',\n",
    "                                    'total_pediatric_patients_hospitalized_confirmed_covid',\n",
    "                                    'staffed_icu_pediatric_patients_confirmed_covid'])\n",
    "df4 = df4.groupby(by='state',as_index=False).sum().sort_values(by=\"total_pediatric_patients_hospitalized_confirmed_covid\",ascending=False).reset_index().drop(columns='index')\n",
    "df4.state"
   ]
  },
  {
   "cell_type": "markdown",
   "metadata": {},
   "source": [
    "5 - ¿Qué porcentaje de camas UCI corresponden a casos confirmados de COVID-19? Agrupe por Estado.\n",
    "\n"
   ]
  },
  {
   "cell_type": "code",
   "execution_count": null,
   "metadata": {},
   "outputs": [
    {
     "data": {
      "text/html": [
       "<div>\n",
       "<style scoped>\n",
       "    .dataframe tbody tr th:only-of-type {\n",
       "        vertical-align: middle;\n",
       "    }\n",
       "\n",
       "    .dataframe tbody tr th {\n",
       "        vertical-align: top;\n",
       "    }\n",
       "\n",
       "    .dataframe thead th {\n",
       "        text-align: right;\n",
       "    }\n",
       "</style>\n",
       "<table border=\"1\" class=\"dataframe\">\n",
       "  <thead>\n",
       "    <tr style=\"text-align: right;\">\n",
       "      <th></th>\n",
       "      <th>state</th>\n",
       "      <th>staffed_pediatric_icu_bed_occupancy</th>\n",
       "      <th>staffed_adult_icu_bed_occupancy</th>\n",
       "      <th>staffed_icu_pediatric_patients_confirmed_covid</th>\n",
       "      <th>staffed_icu_adult_patients_confirmed_covid</th>\n",
       "      <th>Total_camas_uci_ocupadas</th>\n",
       "      <th>Total_camas_uci_covid_ocupadas</th>\n",
       "    </tr>\n",
       "  </thead>\n",
       "  <tbody>\n",
       "    <tr>\n",
       "      <th>0</th>\n",
       "      <td>TX</td>\n",
       "      <td>477433.00</td>\n",
       "      <td>4427230.00</td>\n",
       "      <td>4779.00</td>\n",
       "      <td>1145608.00</td>\n",
       "      <td>4904663.00</td>\n",
       "      <td>1150387.00</td>\n",
       "    </tr>\n",
       "    <tr>\n",
       "      <th>1</th>\n",
       "      <td>CA</td>\n",
       "      <td>1170638.00</td>\n",
       "      <td>4031911.00</td>\n",
       "      <td>7275.00</td>\n",
       "      <td>901228.00</td>\n",
       "      <td>5202549.00</td>\n",
       "      <td>908503.00</td>\n",
       "    </tr>\n",
       "    <tr>\n",
       "      <th>2</th>\n",
       "      <td>FL</td>\n",
       "      <td>653232.00</td>\n",
       "      <td>3764364.00</td>\n",
       "      <td>3776.00</td>\n",
       "      <td>694234.00</td>\n",
       "      <td>4417596.00</td>\n",
       "      <td>698010.00</td>\n",
       "    </tr>\n",
       "    <tr>\n",
       "      <th>3</th>\n",
       "      <td>NY</td>\n",
       "      <td>588908.00</td>\n",
       "      <td>2531611.00</td>\n",
       "      <td>3378.00</td>\n",
       "      <td>398737.00</td>\n",
       "      <td>3120519.00</td>\n",
       "      <td>402115.00</td>\n",
       "    </tr>\n",
       "    <tr>\n",
       "      <th>4</th>\n",
       "      <td>PA</td>\n",
       "      <td>560267.00</td>\n",
       "      <td>2126500.00</td>\n",
       "      <td>1739.00</td>\n",
       "      <td>339238.00</td>\n",
       "      <td>2686767.00</td>\n",
       "      <td>340977.00</td>\n",
       "    </tr>\n",
       "  </tbody>\n",
       "</table>\n",
       "</div>"
      ],
      "text/plain": [
       "  state  staffed_pediatric_icu_bed_occupancy  staffed_adult_icu_bed_occupancy  \\\n",
       "0    TX                            477433.00                       4427230.00   \n",
       "1    CA                           1170638.00                       4031911.00   \n",
       "2    FL                            653232.00                       3764364.00   \n",
       "3    NY                            588908.00                       2531611.00   \n",
       "4    PA                            560267.00                       2126500.00   \n",
       "\n",
       "   staffed_icu_pediatric_patients_confirmed_covid  \\\n",
       "0                                         4779.00   \n",
       "1                                         7275.00   \n",
       "2                                         3776.00   \n",
       "3                                         3378.00   \n",
       "4                                         1739.00   \n",
       "\n",
       "   staffed_icu_adult_patients_confirmed_covid  Total_camas_uci_ocupadas  \\\n",
       "0                                  1145608.00                4904663.00   \n",
       "1                                   901228.00                5202549.00   \n",
       "2                                   694234.00                4417596.00   \n",
       "3                                   398737.00                3120519.00   \n",
       "4                                   339238.00                2686767.00   \n",
       "\n",
       "   Total_camas_uci_covid_ocupadas  \n",
       "0                      1150387.00  \n",
       "1                       908503.00  \n",
       "2                       698010.00  \n",
       "3                       402115.00  \n",
       "4                       340977.00  "
      ]
     },
     "execution_count": 562,
     "metadata": {},
     "output_type": "execute_result"
    }
   ],
   "source": [
    "df5 = df.sort_values('date')\n",
    "df5 = pd.DataFrame(df, columns = ['state',\n",
    "                                    'staffed_pediatric_icu_bed_occupancy',\n",
    "                                    'staffed_adult_icu_bed_occupancy',\n",
    "                                    'staffed_icu_pediatric_patients_confirmed_covid',\n",
    "                                    'staffed_icu_adult_patients_confirmed_covid'])\n",
    "df5['Total_camas_uci_ocupadas'] = df5['staffed_pediatric_icu_bed_occupancy'] + df5['staffed_adult_icu_bed_occupancy']\n",
    "df5['Total_camas_uci_covid_ocupadas'] = df5['staffed_icu_pediatric_patients_confirmed_covid'] + df5['staffed_icu_adult_patients_confirmed_covid']\n",
    "df5 = df5.groupby(by='state').sum().sort_values(by=\"staffed_adult_icu_bed_occupancy\",ascending=False).reset_index()\n",
    "df5.head()"
   ]
  },
  {
   "cell_type": "code",
   "execution_count": null,
   "metadata": {},
   "outputs": [
    {
     "data": {
      "text/plain": [
       "17.45"
      ]
     },
     "execution_count": 563,
     "metadata": {},
     "output_type": "execute_result"
    }
   ],
   "source": [
    "df5 = pd.DataFrame(df5, columns = ['state',\n",
    "                                    'Total_camas_uci_ocupadas',\n",
    "                                    'Total_camas_uci_covid_ocupadas'])\n",
    "df5['Porcentaje_camas__uci_covid'] = df5['Total_camas_uci_covid_ocupadas'] / df5['Total_camas_uci_ocupadas']\n",
    "total_uci = df5['Total_camas_uci_ocupadas'].sum()\n",
    "total_uci_covid = df5['Total_camas_uci_covid_ocupadas'].sum()\n",
    "porcentaje = round(100*total_uci_covid/total_uci,2)\n",
    "porcentaje"
   ]
  },
  {
   "cell_type": "markdown",
   "metadata": {},
   "source": [
    "6 - ¿Cuántas muertes por covid hubo, por Estado, durante el año 2021?\n",
    "\n"
   ]
  },
  {
   "cell_type": "code",
   "execution_count": null,
   "metadata": {},
   "outputs": [
    {
     "data": {
      "text/html": [
       "<div>\n",
       "<style scoped>\n",
       "    .dataframe tbody tr th:only-of-type {\n",
       "        vertical-align: middle;\n",
       "    }\n",
       "\n",
       "    .dataframe tbody tr th {\n",
       "        vertical-align: top;\n",
       "    }\n",
       "\n",
       "    .dataframe thead th {\n",
       "        text-align: right;\n",
       "    }\n",
       "</style>\n",
       "<table border=\"1\" class=\"dataframe\">\n",
       "  <thead>\n",
       "    <tr style=\"text-align: right;\">\n",
       "      <th></th>\n",
       "      <th>state</th>\n",
       "      <th>deaths_covid</th>\n",
       "    </tr>\n",
       "  </thead>\n",
       "  <tbody>\n",
       "    <tr>\n",
       "      <th>0</th>\n",
       "      <td>CA</td>\n",
       "      <td>35108.00</td>\n",
       "    </tr>\n",
       "    <tr>\n",
       "      <th>1</th>\n",
       "      <td>TX</td>\n",
       "      <td>32889.00</td>\n",
       "    </tr>\n",
       "    <tr>\n",
       "      <th>2</th>\n",
       "      <td>FL</td>\n",
       "      <td>26004.00</td>\n",
       "    </tr>\n",
       "    <tr>\n",
       "      <th>3</th>\n",
       "      <td>NY</td>\n",
       "      <td>17620.00</td>\n",
       "    </tr>\n",
       "    <tr>\n",
       "      <th>4</th>\n",
       "      <td>AZ</td>\n",
       "      <td>16250.00</td>\n",
       "    </tr>\n",
       "  </tbody>\n",
       "</table>\n",
       "</div>"
      ],
      "text/plain": [
       "  state  deaths_covid\n",
       "0    CA      35108.00\n",
       "1    TX      32889.00\n",
       "2    FL      26004.00\n",
       "3    NY      17620.00\n",
       "4    AZ      16250.00"
      ]
     },
     "execution_count": 564,
     "metadata": {},
     "output_type": "execute_result"
    }
   ],
   "source": [
    "df6 = df[(df['date'] > '2020/12/31') & (df['date'] < '2022/01/01')].sort_values('date')\n",
    "df6 = pd.DataFrame(df6, columns = ['state',\n",
    "                                    'deaths_covid'])\n",
    "df6 = df6.groupby(by='state',as_index=False).sum().sort_values(by=\"deaths_covid\",ascending=False).reset_index().drop(columns='index')\n",
    "df6.head()"
   ]
  },
  {
   "cell_type": "markdown",
   "metadata": {},
   "source": [
    "7 - ¿Qué relación presenta la falta de personal médico, con la cantidad de muertes por covid durante el año 2021?"
   ]
  },
  {
   "cell_type": "code",
   "execution_count": null,
   "metadata": {},
   "outputs": [],
   "source": [
    "df7 = df[(df['date'] > '2020/12/31') & (df['date'] < '2022/01/01')].sort_values('date')\n",
    "df7 = pd.DataFrame(df7, columns = ['date',\n",
    "                                    'deaths_covid',\n",
    "                                    'critical_staffing_shortage_today_yes'])\n",
    "\n",
    "df7 = df7.groupby(by='date', as_index=False).sum()\n"
   ]
  },
  {
   "cell_type": "code",
   "execution_count": null,
   "metadata": {},
   "outputs": [
    {
     "data": {
      "image/png": "[encoded data removed]",
      "text/plain": [
       "<Figure size 720x432 with 2 Axes>"
      ]
     },
     "metadata": {
      "needs_background": "light"
     },
     "output_type": "display_data"
    }
   ],
   "source": [
    "x1 = df7.deaths_covid.values\n",
    "x2 = df7.critical_staffing_shortage_today_yes.values\n",
    "y = df7.date.values\n",
    "fig, ax = plt.subplots(2, figsize=(10, 6),\n",
    "           sharex='col', sharey='row')\n",
    "ax[0].plot(y, x1)\n",
    "ax[0].set(ylabel='Muertes',\n",
    "       title='Muertes por COVID-19 2021')\n",
    "ax[1].plot(y, x2)\n",
    "ax[1].set(xlabel='Fecha', ylabel='Hospitales',\n",
    "       title='Hospitales con recursos insuficientes')\n",
    "ax[1].xaxis.set_major_locator(mdates.AutoDateLocator())\n",
    "ax[1].tick_params(axis='x', labelrotation=45)\n",
    "plt.show()"
   ]
  },
  {
   "cell_type": "markdown",
   "metadata": {},
   "source": [
    "8 - Siguiendo las respuestas anteriores, ¿cuál fue el peor mes de la pandemia para USA en su conjunto? Puede utilizar otras medidas que considere necesarias.\n",
    "\n"
   ]
  },
  {
   "cell_type": "code",
   "execution_count": null,
   "metadata": {},
   "outputs": [
    {
     "data": {
      "text/html": [
       "<div>\n",
       "<style scoped>\n",
       "    .dataframe tbody tr th:only-of-type {\n",
       "        vertical-align: middle;\n",
       "    }\n",
       "\n",
       "    .dataframe tbody tr th {\n",
       "        vertical-align: top;\n",
       "    }\n",
       "\n",
       "    .dataframe thead th {\n",
       "        text-align: right;\n",
       "    }\n",
       "</style>\n",
       "<table border=\"1\" class=\"dataframe\">\n",
       "  <thead>\n",
       "    <tr style=\"text-align: right;\">\n",
       "      <th></th>\n",
       "      <th>month_year</th>\n",
       "      <th>deaths_covid</th>\n",
       "      <th>critical_staffing_shortage_today_yes</th>\n",
       "    </tr>\n",
       "  </thead>\n",
       "  <tbody>\n",
       "    <tr>\n",
       "      <th>0</th>\n",
       "      <td>2020-01</td>\n",
       "      <td>145.00</td>\n",
       "      <td>80</td>\n",
       "    </tr>\n",
       "    <tr>\n",
       "      <th>1</th>\n",
       "      <td>2020-02</td>\n",
       "      <td>0.00</td>\n",
       "      <td>0</td>\n",
       "    </tr>\n",
       "    <tr>\n",
       "      <th>2</th>\n",
       "      <td>2020-03</td>\n",
       "      <td>1118.00</td>\n",
       "      <td>0</td>\n",
       "    </tr>\n",
       "    <tr>\n",
       "      <th>3</th>\n",
       "      <td>2020-04</td>\n",
       "      <td>33572.00</td>\n",
       "      <td>30</td>\n",
       "    </tr>\n",
       "    <tr>\n",
       "      <th>4</th>\n",
       "      <td>2020-05</td>\n",
       "      <td>54884.00</td>\n",
       "      <td>6</td>\n",
       "    </tr>\n",
       "  </tbody>\n",
       "</table>\n",
       "</div>"
      ],
      "text/plain": [
       "  month_year  deaths_covid  critical_staffing_shortage_today_yes\n",
       "0    2020-01        145.00                                    80\n",
       "1    2020-02          0.00                                     0\n",
       "2    2020-03       1118.00                                     0\n",
       "3    2020-04      33572.00                                    30\n",
       "4    2020-05      54884.00                                     6"
      ]
     },
     "execution_count": 567,
     "metadata": {},
     "output_type": "execute_result"
    }
   ],
   "source": [
    "df8 = pd.DataFrame(df, columns = ['date',\n",
    "                                    'deaths_covid',\n",
    "                                    'critical_staffing_shortage_today_yes']).sort_values('date')\n",
    "df8['month_year'] = pd.to_datetime(df8['date']).dt.to_period('M')\n",
    "df8['month_year'].astype(str)\n",
    "df8 = df8.groupby(by='month_year', as_index=False).sum()\n",
    "df8.head()\n"
   ]
  },
  {
   "cell_type": "markdown",
   "metadata": {},
   "source": [
    "Peor mes por cantidad de muertes"
   ]
  },
  {
   "cell_type": "code",
   "execution_count": null,
   "metadata": {},
   "outputs": [
    {
     "data": {
      "text/html": [
       "<div>\n",
       "<style scoped>\n",
       "    .dataframe tbody tr th:only-of-type {\n",
       "        vertical-align: middle;\n",
       "    }\n",
       "\n",
       "    .dataframe tbody tr th {\n",
       "        vertical-align: top;\n",
       "    }\n",
       "\n",
       "    .dataframe thead th {\n",
       "        text-align: right;\n",
       "    }\n",
       "</style>\n",
       "<table border=\"1\" class=\"dataframe\">\n",
       "  <thead>\n",
       "    <tr style=\"text-align: right;\">\n",
       "      <th></th>\n",
       "      <th>month_year</th>\n",
       "      <th>deaths_covid</th>\n",
       "      <th>critical_staffing_shortage_today_yes</th>\n",
       "    </tr>\n",
       "  </thead>\n",
       "  <tbody>\n",
       "    <tr>\n",
       "      <th>0</th>\n",
       "      <td>2021-01</td>\n",
       "      <td>66020.00</td>\n",
       "      <td>31865</td>\n",
       "    </tr>\n",
       "  </tbody>\n",
       "</table>\n",
       "</div>"
      ],
      "text/plain": [
       "  month_year  deaths_covid  critical_staffing_shortage_today_yes\n",
       "0    2021-01      66020.00                                 31865"
      ]
     },
     "execution_count": 568,
     "metadata": {},
     "output_type": "execute_result"
    }
   ],
   "source": [
    "df8.sort_values(by=\"deaths_covid\",ascending=False).reset_index().drop(columns='index').iloc[0:1]"
   ]
  },
  {
   "cell_type": "markdown",
   "metadata": {},
   "source": [
    "Peor mes por falta de recursos hospitalarios"
   ]
  },
  {
   "cell_type": "code",
   "execution_count": null,
   "metadata": {},
   "outputs": [
    {
     "data": {
      "text/html": [
       "<div>\n",
       "<style scoped>\n",
       "    .dataframe tbody tr th:only-of-type {\n",
       "        vertical-align: middle;\n",
       "    }\n",
       "\n",
       "    .dataframe tbody tr th {\n",
       "        vertical-align: top;\n",
       "    }\n",
       "\n",
       "    .dataframe thead th {\n",
       "        text-align: right;\n",
       "    }\n",
       "</style>\n",
       "<table border=\"1\" class=\"dataframe\">\n",
       "  <thead>\n",
       "    <tr style=\"text-align: right;\">\n",
       "      <th></th>\n",
       "      <th>month_year</th>\n",
       "      <th>deaths_covid</th>\n",
       "      <th>critical_staffing_shortage_today_yes</th>\n",
       "    </tr>\n",
       "  </thead>\n",
       "  <tbody>\n",
       "    <tr>\n",
       "      <th>0</th>\n",
       "      <td>2020-12</td>\n",
       "      <td>56674.00</td>\n",
       "      <td>37456</td>\n",
       "    </tr>\n",
       "  </tbody>\n",
       "</table>\n",
       "</div>"
      ],
      "text/plain": [
       "  month_year  deaths_covid  critical_staffing_shortage_today_yes\n",
       "0    2020-12      56674.00                                 37456"
      ]
     },
     "execution_count": 569,
     "metadata": {},
     "output_type": "execute_result"
    }
   ],
   "source": [
    "df8.sort_values(by=\"critical_staffing_shortage_today_yes\",ascending=False).reset_index().drop(columns='index').iloc[0:1]"
   ]
  },
  {
   "cell_type": "code",
   "execution_count": null,
   "metadata": {},
   "outputs": [
    {
     "data": {
      "image/png": "[encoded data removed]",
      "text/plain": [
       "<Figure size 720x432 with 2 Axes>"
      ]
     },
     "metadata": {
      "needs_background": "light"
     },
     "output_type": "display_data"
    }
   ],
   "source": [
    "x1 = df8.deaths_covid.values\n",
    "x2 = df8.critical_staffing_shortage_today_yes.values\n",
    "y = df8['month_year'].astype(str)\n",
    "\n",
    "\n",
    "fig, ax = plt.subplots(2, figsize=(10, 6),\n",
    "           sharex='col', sharey='row')\n",
    "ax[0].plot(y, x1)\n",
    "ax[0].set(ylabel='Muertes',\n",
    "       title='Muertes por COVID-19 2021')\n",
    "ax[1].plot(y, x2)\n",
    "ax[1].set(xlabel='Fecha', ylabel='Hospitales',\n",
    "       title='Hospitales con recursos insuficientes')\n",
    "ax[1].xaxis.set_major_locator(mdates.AutoDateLocator())\n",
    "ax[1].tick_params(axis='x', labelrotation=45)\n",
    "plt.show()"
   ]
  },
  {
   "cell_type": "markdown",
   "metadata": {},
   "source": [
    "9 - ¿Qué recomendaciones haría, ex post, con respecto a los recursos hospitalarios y su uso?\n",
    "\n"
   ]
  },
  {
   "cell_type": "markdown",
   "metadata": {},
   "source": [
    "Las curvas de muertes por COVID-19 y de cantidad de unidades médicas que reportan escasez de recursos están altamente relacionadas, en este caso el mes con mayor cantidad de muertes reportadas fue en 01-2021 mientras que la cantidad de unidades médicas que reportaron escasez de recursos hospitalarios alcanzó su pico el mes anterior, 12-2020, por lo que se recomienda mejorar el equipamento de las unidades médicas y dotarlas de mayores y mejores recursos para evitar que aumente la cantidad de muertes por COVID-19."
   ]
  },
  {
   "cell_type": "code",
   "execution_count": null,
   "metadata": {},
   "outputs": [],
   "source": [
    "https://pe.usps.com/text/pub28/28apb.htm # estados que no se encuentran dentro de state code, son zip code"
   ]
  }
 ],
 "metadata": {
  "kernelspec": {
   "display_name": "Python 3.10.4 64-bit",
   "language": "python",
   "name": "python3"
  },
  "language_info": {
   "codemirror_mode": {
    "name": "ipython",
    "version": 3
   },
   "file_extension": ".py",
   "mimetype": "text/x-python",
   "name": "python",
   "nbconvert_exporter": "python",
   "pygments_lexer": "ipython3",
   "version": "3.10.4"
  },
  "orig_nbformat": 4,
  "vscode": {
   "interpreter": {
    "hash": "d7546de2d5b66e6bb4051f93f462cf1f21acc5c70ac66712f7c9fa60f386dd80"
   }
  }
 },
 "nbformat": 4,
 "nbformat_minor": 2
}
